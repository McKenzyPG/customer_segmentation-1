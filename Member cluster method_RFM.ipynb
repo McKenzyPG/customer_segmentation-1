{
 "cells": [
  {
   "cell_type": "markdown",
   "metadata": {},
   "source": [
    "# Load library"
   ]
  },
  {
   "cell_type": "code",
   "execution_count": 1,
   "metadata": {
    "collapsed": true
   },
   "outputs": [],
   "source": [
    "### visualization\n",
    "%matplotlib inline\n",
    "import seaborn as sns\n",
    "import matplotlib.pyplot as plt\n",
    "import matplotlib as mat"
   ]
  },
  {
   "cell_type": "code",
   "execution_count": 2,
   "metadata": {
    "collapsed": true
   },
   "outputs": [],
   "source": [
    "# data analysis and wrangling\n",
    "import numpy as np\n",
    "import pandas as pd\n",
    "import re\n",
    "from functools import partial"
   ]
  },
  {
   "cell_type": "code",
   "execution_count": 3,
   "metadata": {
    "collapsed": true
   },
   "outputs": [],
   "source": [
    "### Machine learning\n",
    "## preprocess\n",
    "from sklearn.pipeline import Pipeline\n",
    "from sklearn.preprocessing import StandardScaler\n",
    "\n",
    "## algorithm\n",
    "from sklearn.cluster import KMeans"
   ]
  },
  {
   "cell_type": "code",
   "execution_count": 4,
   "metadata": {
    "collapsed": true
   },
   "outputs": [],
   "source": [
    "# other library\n",
    "import datetime\n",
    "import calendar"
   ]
  },
  {
   "cell_type": "code",
   "execution_count": 5,
   "metadata": {
    "collapsed": true
   },
   "outputs": [],
   "source": [
    "# ignore sys warning\n",
    "import warnings\n",
    "import os\n",
    "import glob\n",
    "warnings.filterwarnings('ignore')"
   ]
  },
  {
   "cell_type": "markdown",
   "metadata": {},
   "source": [
    "# Load data & manipulation"
   ]
  },
  {
   "cell_type": "markdown",
   "metadata": {},
   "source": [
    "## load data from csvs"
   ]
  },
  {
   "cell_type": "code",
   "execution_count": 6,
   "metadata": {
    "collapsed": true
   },
   "outputs": [],
   "source": [
    "path =r'YOUR PATH' \n",
    "allFiles = glob.glob(path + \"/*.csv\")\n",
    "df = pd.DataFrame()\n",
    "list_ = []\n",
    "for file_ in allFiles:\n",
    "    df_temp = pd.read_csv(file_,index_col=None, header=0)\n",
    "    list_.append(df_temp)\n",
    "df = pd.concat(list_)"
   ]
  },
  {
   "cell_type": "markdown",
   "metadata": {},
   "source": [
    "## get each usr first buy date"
   ]
  },
  {
   "cell_type": "code",
   "execution_count": 7,
   "metadata": {},
   "outputs": [
    {
     "name": "stdout",
     "output_type": "stream",
     "text": [
      "(1720784, 37)\n",
      "(1634779, 37)\n",
      "(1630841, 37)\n"
     ]
    }
   ],
   "source": [
    "df['order_time'] = pd.to_datetime(df['order_time'].str[:10], format='%Y-%m-%d')\n",
    "print(df.shape)\n",
    "df = df.loc[df.order_status != 'Cancel']\n",
    "print(df.shape)\n",
    "df = df.loc[df.order_time >= '2016-03-01']\n",
    "print(df.shape)"
   ]
  },
  {
   "cell_type": "markdown",
   "metadata": {},
   "source": [
    "## Seperate data by shop"
   ]
  },
  {
   "cell_type": "code",
   "execution_count": 8,
   "metadata": {},
   "outputs": [
    {
     "name": "stdout",
     "output_type": "stream",
     "text": [
      "(1630841, 37)\n",
      "(1582089, 37)\n"
     ]
    }
   ],
   "source": [
    "print(df.shape)\n",
    "df_1993 = df.loc[df.shop_id == 1993].reset_index().drop('index', axis=1)\n",
    "print(df_1993.shape)\n",
    "del df"
   ]
  },
  {
   "cell_type": "markdown",
   "metadata": {},
   "source": [
    "## cart detail to cart brief"
   ]
  },
  {
   "cell_type": "code",
   "execution_count": 9,
   "metadata": {},
   "outputs": [
    {
     "name": "stdout",
     "output_type": "stream",
     "text": [
      "(1582089, 37)\n",
      "(1582089, 5)\n"
     ]
    }
   ],
   "source": [
    "print(df_1993.shape)\n",
    "df_1993_tg = df_1993[['cart_code', 'member_code', 'order_time', 'order_label', 'payment']]\n",
    "print(df_1993_tg.shape)"
   ]
  },
  {
   "cell_type": "code",
   "execution_count": 10,
   "metadata": {},
   "outputs": [
    {
     "name": "stdout",
     "output_type": "stream",
     "text": [
      "(480964, 5)\n"
     ]
    }
   ],
   "source": [
    "df_1993_tg = df_1993_tg.groupby(['cart_code', 'member_code', 'order_time', 'order_label'], as_index=False).sum()\n",
    "print(df_1993_tg.shape)"
   ]
  },
  {
   "cell_type": "markdown",
   "metadata": {},
   "source": [
    "# RFM Method"
   ]
  },
  {
   "cell_type": "markdown",
   "metadata": {
    "collapsed": true
   },
   "source": [
    "## calculate Recency, Frequency, Monetary"
   ]
  },
  {
   "cell_type": "code",
   "execution_count": 11,
   "metadata": {
    "collapsed": true
   },
   "outputs": [],
   "source": [
    "now = pd.to_datetime('2017-12-01', format='%Y-%m-%d')"
   ]
  },
  {
   "cell_type": "code",
   "execution_count": 12,
   "metadata": {},
   "outputs": [
    {
     "data": {
      "text/html": [
       "<div>\n",
       "<style>\n",
       "    .dataframe thead tr:only-child th {\n",
       "        text-align: right;\n",
       "    }\n",
       "\n",
       "    .dataframe thead th {\n",
       "        text-align: left;\n",
       "    }\n",
       "\n",
       "    .dataframe tbody tr th {\n",
       "        vertical-align: top;\n",
       "    }\n",
       "</style>\n",
       "<table border=\"1\" class=\"dataframe\">\n",
       "  <thead>\n",
       "    <tr style=\"text-align: right;\">\n",
       "      <th></th>\n",
       "      <th>member_id</th>\n",
       "      <th>Recency</th>\n",
       "      <th>Frequency</th>\n",
       "      <th>Monetary</th>\n",
       "    </tr>\n",
       "  </thead>\n",
       "  <tbody>\n",
       "    <tr>\n",
       "      <th>0</th>\n",
       "      <td>1</td>\n",
       "      <td>188</td>\n",
       "      <td>14</td>\n",
       "      <td>16031</td>\n",
       "    </tr>\n",
       "    <tr>\n",
       "      <th>1</th>\n",
       "      <td>2</td>\n",
       "      <td>42</td>\n",
       "      <td>18</td>\n",
       "      <td>16000</td>\n",
       "    </tr>\n",
       "    <tr>\n",
       "      <th>2</th>\n",
       "      <td>3</td>\n",
       "      <td>416</td>\n",
       "      <td>6</td>\n",
       "      <td>2537</td>\n",
       "    </tr>\n",
       "    <tr>\n",
       "      <th>3</th>\n",
       "      <td>4</td>\n",
       "      <td>116</td>\n",
       "      <td>3</td>\n",
       "      <td>2717</td>\n",
       "    </tr>\n",
       "    <tr>\n",
       "      <th>4</th>\n",
       "      <td>6</td>\n",
       "      <td>170</td>\n",
       "      <td>2</td>\n",
       "      <td>2260</td>\n",
       "    </tr>\n",
       "  </tbody>\n",
       "</table>\n",
       "</div>"
      ],
      "text/plain": [
       "   member_id  Recency  Frequency  Monetary\n",
       "0          1      188         14     16031\n",
       "1          2       42         18     16000\n",
       "2          3      416          6      2537\n",
       "3          4      116          3      2717\n",
       "4          6      170          2      2260"
      ]
     },
     "execution_count": 12,
     "metadata": {},
     "output_type": "execute_result"
    }
   ],
   "source": [
    "rfm = df_1993_tg.groupby('member_code', as_index=False).agg({'order_time': lambda x: (now - x.max()).days,     # Recency\n",
    "                                                             'cart_code': lambda x: len(x),                    # Frequency\n",
    "                                                             'payment': lambda x: x.sum()})                    # Monetary Value\n",
    "rfm.columns = ['member_id', 'Recency', 'Frequency', 'Monetary']\n",
    "rfm.head()"
   ]
  },
  {
   "cell_type": "code",
   "execution_count": 13,
   "metadata": {},
   "outputs": [
    {
     "data": {
      "text/plain": [
       "{'Frequency': {0.25: 1.0, 0.75: 2.0},\n",
       " 'Monetary': {0.25: 547.0, 0.75: 1409.0},\n",
       " 'Recency': {0.25: 171.0, 0.75: 446.0}}"
      ]
     },
     "execution_count": 13,
     "metadata": {},
     "output_type": "execute_result"
    }
   ],
   "source": [
    "# use quantile as threshold\n",
    "thr = rfm.drop('member_id', axis=1).quantile(q=[0.25, 0.75])\n",
    "thr = thr.to_dict()\n",
    "thr"
   ]
  },
  {
   "cell_type": "code",
   "execution_count": 14,
   "metadata": {
    "collapsed": true
   },
   "outputs": [],
   "source": [
    "# cluster member by rfm\n",
    "def rank_r(x, p, t):\n",
    "    if x <= t[p][0.25]:\n",
    "        return str(1)\n",
    "    elif x <= t[p][0.75]: \n",
    "        return str(2)\n",
    "    else:\n",
    "        return str(3)\n",
    "    \n",
    "def rank_f(x, p, t):\n",
    "    if x <= t[p][0.25]:\n",
    "        return str(3)\n",
    "    else:\n",
    "        return str(1)\n",
    "    \n",
    "def rank_m(x, p, t):\n",
    "    if x <= t[p][0.25]:\n",
    "        return str(3)\n",
    "    elif x <= t[p][0.75]: \n",
    "        return str(2)\n",
    "    else:\n",
    "        return str(1)"
   ]
  },
  {
   "cell_type": "code",
   "execution_count": 15,
   "metadata": {},
   "outputs": [
    {
     "data": {
      "text/html": [
       "<div>\n",
       "<style>\n",
       "    .dataframe thead tr:only-child th {\n",
       "        text-align: right;\n",
       "    }\n",
       "\n",
       "    .dataframe thead th {\n",
       "        text-align: left;\n",
       "    }\n",
       "\n",
       "    .dataframe tbody tr th {\n",
       "        vertical-align: top;\n",
       "    }\n",
       "</style>\n",
       "<table border=\"1\" class=\"dataframe\">\n",
       "  <thead>\n",
       "    <tr style=\"text-align: right;\">\n",
       "      <th></th>\n",
       "      <th>member_id</th>\n",
       "      <th>Recency</th>\n",
       "      <th>Frequency</th>\n",
       "      <th>Monetary</th>\n",
       "      <th>rank_r</th>\n",
       "      <th>rank_f</th>\n",
       "      <th>rank_m</th>\n",
       "      <th>cluster</th>\n",
       "    </tr>\n",
       "  </thead>\n",
       "  <tbody>\n",
       "    <tr>\n",
       "      <th>0</th>\n",
       "      <td>1</td>\n",
       "      <td>188</td>\n",
       "      <td>14</td>\n",
       "      <td>16031</td>\n",
       "      <td>2</td>\n",
       "      <td>1</td>\n",
       "      <td>1</td>\n",
       "      <td>211</td>\n",
       "    </tr>\n",
       "    <tr>\n",
       "      <th>1</th>\n",
       "      <td>2</td>\n",
       "      <td>42</td>\n",
       "      <td>18</td>\n",
       "      <td>16000</td>\n",
       "      <td>1</td>\n",
       "      <td>1</td>\n",
       "      <td>1</td>\n",
       "      <td>111</td>\n",
       "    </tr>\n",
       "    <tr>\n",
       "      <th>2</th>\n",
       "      <td>3</td>\n",
       "      <td>416</td>\n",
       "      <td>6</td>\n",
       "      <td>2537</td>\n",
       "      <td>2</td>\n",
       "      <td>1</td>\n",
       "      <td>1</td>\n",
       "      <td>211</td>\n",
       "    </tr>\n",
       "    <tr>\n",
       "      <th>3</th>\n",
       "      <td>4</td>\n",
       "      <td>116</td>\n",
       "      <td>3</td>\n",
       "      <td>2717</td>\n",
       "      <td>1</td>\n",
       "      <td>1</td>\n",
       "      <td>1</td>\n",
       "      <td>111</td>\n",
       "    </tr>\n",
       "    <tr>\n",
       "      <th>4</th>\n",
       "      <td>6</td>\n",
       "      <td>170</td>\n",
       "      <td>2</td>\n",
       "      <td>2260</td>\n",
       "      <td>1</td>\n",
       "      <td>1</td>\n",
       "      <td>1</td>\n",
       "      <td>111</td>\n",
       "    </tr>\n",
       "  </tbody>\n",
       "</table>\n",
       "</div>"
      ],
      "text/plain": [
       "   member_id  Recency  Frequency  Monetary rank_r rank_f rank_m cluster\n",
       "0          1      188         14     16031      2      1      1     211\n",
       "1          2       42         18     16000      1      1      1     111\n",
       "2          3      416          6      2537      2      1      1     211\n",
       "3          4      116          3      2717      1      1      1     111\n",
       "4          6      170          2      2260      1      1      1     111"
      ]
     },
     "execution_count": 15,
     "metadata": {},
     "output_type": "execute_result"
    }
   ],
   "source": [
    "rfm['rank_r'] = rfm['Recency'].apply(rank_r, args=('Recency', thr))\n",
    "rfm['rank_f'] = rfm['Frequency'].apply(rank_f, args=('Frequency', thr))\n",
    "rfm['rank_m'] = rfm['Monetary'].apply(rank_m, args=('Monetary', thr))\n",
    "rfm['cluster'] = rfm['rank_r'] + rfm['rank_f'] + rfm['rank_m']\n",
    "rfm.head()"
   ]
  },
  {
   "cell_type": "markdown",
   "metadata": {},
   "source": [
    "## cluster defination\n",
    "\n",
    "|Segment|RFM|Background Description|Marketing strategy|\n",
    "|---|---|---|---|\n",
    "|Best Customer|111|Bought most recently<br>most often<br>spend the most|No price incentives<br>new products<br>loyalty programs<br>Free marketing tools|\n",
    "|New Customer|1xx|Buy one time & haven't lost|Aggressive marketing|\n",
    "|Loyal Customer|x1x|Buy most frequently|Bulid long term relationship|\n",
    "|Big Spenders|xx1|Spend the most|Market your most expensive products|\n",
    "|Almost Lost|211|Haven’t purchased for some time, but purchased frequently and spend the most|Aggressive price incentives|\n",
    "|Lost Customers|311|Haven’t purchased for some time, but purchased frequently and spend the most|Aggressive price incentives|\n",
    "|Cheap Lost|333|Last purchased long ago, purchased few, and spent little|Never mind!|"
   ]
  },
  {
   "cell_type": "code",
   "execution_count": 16,
   "metadata": {
    "collapsed": true
   },
   "outputs": [],
   "source": [
    "def segment(rows):\n",
    "    if rows['cluster'] == '111':\n",
    "        return 'Best Customer'\n",
    "    elif rows['cluster'] == '211':\n",
    "        return 'Almost Lost'\n",
    "    elif rows['cluster'] == '311':\n",
    "        return 'Lost Customer'\n",
    "    elif rows['rank_r'] == '3':\n",
    "        return 'Cheap Lost'\n",
    "    elif rows['rank_f'] == '1':\n",
    "        return 'Loyal Customer'\n",
    "    elif rows['rank_m'] == '1':\n",
    "        return 'Big Spenders'\n",
    "    elif rows['rank_f'] == '3':\n",
    "        return 'New Customer'\n",
    "    else:\n",
    "        return rows['cluster']"
   ]
  },
  {
   "cell_type": "code",
   "execution_count": 17,
   "metadata": {},
   "outputs": [
    {
     "data": {
      "text/html": [
       "<div>\n",
       "<style>\n",
       "    .dataframe thead tr:only-child th {\n",
       "        text-align: right;\n",
       "    }\n",
       "\n",
       "    .dataframe thead th {\n",
       "        text-align: left;\n",
       "    }\n",
       "\n",
       "    .dataframe tbody tr th {\n",
       "        vertical-align: top;\n",
       "    }\n",
       "</style>\n",
       "<table border=\"1\" class=\"dataframe\">\n",
       "  <thead>\n",
       "    <tr style=\"text-align: right;\">\n",
       "      <th></th>\n",
       "      <th>member_id</th>\n",
       "      <th>Recency</th>\n",
       "      <th>Frequency</th>\n",
       "      <th>Monetary</th>\n",
       "      <th>rank_r</th>\n",
       "      <th>rank_f</th>\n",
       "      <th>rank_m</th>\n",
       "      <th>cluster</th>\n",
       "      <th>segment</th>\n",
       "    </tr>\n",
       "  </thead>\n",
       "  <tbody>\n",
       "    <tr>\n",
       "      <th>0</th>\n",
       "      <td>1</td>\n",
       "      <td>188</td>\n",
       "      <td>14</td>\n",
       "      <td>16031</td>\n",
       "      <td>2</td>\n",
       "      <td>1</td>\n",
       "      <td>1</td>\n",
       "      <td>211</td>\n",
       "      <td>Almost Lost</td>\n",
       "    </tr>\n",
       "    <tr>\n",
       "      <th>1</th>\n",
       "      <td>2</td>\n",
       "      <td>42</td>\n",
       "      <td>18</td>\n",
       "      <td>16000</td>\n",
       "      <td>1</td>\n",
       "      <td>1</td>\n",
       "      <td>1</td>\n",
       "      <td>111</td>\n",
       "      <td>Best Customer</td>\n",
       "    </tr>\n",
       "    <tr>\n",
       "      <th>2</th>\n",
       "      <td>3</td>\n",
       "      <td>416</td>\n",
       "      <td>6</td>\n",
       "      <td>2537</td>\n",
       "      <td>2</td>\n",
       "      <td>1</td>\n",
       "      <td>1</td>\n",
       "      <td>211</td>\n",
       "      <td>Almost Lost</td>\n",
       "    </tr>\n",
       "    <tr>\n",
       "      <th>3</th>\n",
       "      <td>4</td>\n",
       "      <td>116</td>\n",
       "      <td>3</td>\n",
       "      <td>2717</td>\n",
       "      <td>1</td>\n",
       "      <td>1</td>\n",
       "      <td>1</td>\n",
       "      <td>111</td>\n",
       "      <td>Best Customer</td>\n",
       "    </tr>\n",
       "    <tr>\n",
       "      <th>4</th>\n",
       "      <td>6</td>\n",
       "      <td>170</td>\n",
       "      <td>2</td>\n",
       "      <td>2260</td>\n",
       "      <td>1</td>\n",
       "      <td>1</td>\n",
       "      <td>1</td>\n",
       "      <td>111</td>\n",
       "      <td>Best Customer</td>\n",
       "    </tr>\n",
       "  </tbody>\n",
       "</table>\n",
       "</div>"
      ],
      "text/plain": [
       "   member_id  Recency  Frequency  Monetary rank_r rank_f rank_m cluster  \\\n",
       "0          1      188         14     16031      2      1      1     211   \n",
       "1          2       42         18     16000      1      1      1     111   \n",
       "2          3      416          6      2537      2      1      1     211   \n",
       "3          4      116          3      2717      1      1      1     111   \n",
       "4          6      170          2      2260      1      1      1     111   \n",
       "\n",
       "         segment  \n",
       "0    Almost Lost  \n",
       "1  Best Customer  \n",
       "2    Almost Lost  \n",
       "3  Best Customer  \n",
       "4  Best Customer  "
      ]
     },
     "execution_count": 17,
     "metadata": {},
     "output_type": "execute_result"
    }
   ],
   "source": [
    "rfm['segment'] = rfm.apply(segment, axis=1)\n",
    "rfm.head()"
   ]
  },
  {
   "cell_type": "markdown",
   "metadata": {},
   "source": [
    "# Brief of Segmentation"
   ]
  },
  {
   "cell_type": "code",
   "execution_count": 18,
   "metadata": {},
   "outputs": [
    {
     "data": {
      "image/png": "[encoded data removed]",
      "text/plain": [
       "<matplotlib.figure.Figure at 0x21f9bfb3400>"
      ]
     },
     "metadata": {},
     "output_type": "display_data"
    }
   ],
   "source": [
    "rfm_cnt = rfm.groupby('segment', as_index=False).count()[['segment', 'member_id']]\n",
    "plt.pie(data=rfm_cnt, x='member_id', labels='segment', autopct='%1.1f%%', colors=mat.cm.Paired(np.arange(7)/7.))\n",
    "plt.title('Member Cluster Percent')\n",
    "plt.show()"
   ]
  },
  {
   "cell_type": "code",
   "execution_count": 19,
   "metadata": {},
   "outputs": [
    {
     "data": {
      "text/plain": [
       "Text(0.5,1,'Each Segmentation Recency')"
      ]
     },
     "execution_count": 19,
     "metadata": {},
     "output_type": "execute_result"
    },
    {
     "data": {
      "image/png": "[encoded data removed]",
      "text/plain": [
       "<matplotlib.figure.Figure at 0x21fa684e3c8>"
      ]
     },
     "metadata": {},
     "output_type": "display_data"
    }
   ],
   "source": [
    "rfm_bf = rfm.groupby('segment', as_index=False).mean()[['segment', 'Recency', 'Frequency', 'Monetary']]\n",
    "fig, ax = plt.subplots(figsize=(20,8))\n",
    "ax.barh(rfm_bf['segment'], rfm_bf['Recency'], align='center', )\n",
    "for i, v in enumerate(rfm_bf['Recency']):\n",
    "    ax.text(v + 3, i + .05, str(np.round(v, 2)), color='black', size=14)\n",
    "plt.title('Each Segmentation Recency')"
   ]
  },
  {
   "cell_type": "code",
   "execution_count": 20,
   "metadata": {},
   "outputs": [
    {
     "data": {
      "image/png": "[encoded data removed]",
      "text/plain": [
       "<matplotlib.figure.Figure at 0x21f9dd07080>"
      ]
     },
     "metadata": {},
     "output_type": "display_data"
    }
   ],
   "source": [
    "fig, ax = plt.subplots(figsize=(10,8))\n",
    "ax.bar(rfm_bf['segment'], rfm_bf['Frequency'], align='center', )\n",
    "for i, v in enumerate(rfm_bf['Frequency']):\n",
    "    ax.text(i-0.15, v+0.02, str(np.round(v, 2)), color='black', size=14)\n",
    "plt.title('Each Segmentation Frequency')\n",
    "plt.show()"
   ]
  },
  {
   "cell_type": "code",
   "execution_count": 21,
   "metadata": {},
   "outputs": [
    {
     "data": {
      "image/png": "[encoded data removed]",
      "text/plain": [
       "<matplotlib.figure.Figure at 0x21fa4b34e10>"
      ]
     },
     "metadata": {},
     "output_type": "display_data"
    }
   ],
   "source": [
    "fig, ax = plt.subplots(figsize=(12,8))\n",
    "ax.bar(rfm_bf['segment'], rfm_bf['Monetary'], align='center', )\n",
    "for i, v in enumerate(rfm_bf['Monetary']):\n",
    "    ax.text(i-0.25, v+20, str(np.round(v, 2)), color='black', size=14)\n",
    "plt.title('Each Segmentation Monetary')\n",
    "plt.show()"
   ]
  }
 ],
 "metadata": {
  "kernelspec": {
   "display_name": "Python 3",
   "language": "python",
   "name": "python3"
  },
  "language_info": {
   "codemirror_mode": {
    "name": "ipython",
    "version": 3
   },
   "file_extension": ".py",
   "mimetype": "text/x-python",
   "name": "python",
   "nbconvert_exporter": "python",
   "pygments_lexer": "ipython3",
   "version": "3.6.3"
  }
 },
 "nbformat": 4,
 "nbformat_minor": 2
}
